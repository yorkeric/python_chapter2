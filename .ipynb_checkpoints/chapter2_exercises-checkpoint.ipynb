{
 "cells": [
  {
   "cell_type": "markdown",
   "id": "bd6fcc82",
   "metadata": {},
   "source": [
    "## Chapter 2 Exercises\n",
    "\n",
    "### Algorithm Workbench - Number 11\n",
    "\n",
    "Presented with a  number with three decimal places.  Need to write a statement that rounds the number to one decimal place and is formatted with commas. \n",
    "\n",
    "My third pass will print the number rounding to one decimal place with comma separators"
   ]
  },
  {
   "cell_type": "code",
   "execution_count": 44,
   "id": "906df408",
   "metadata": {},
   "outputs": [
    {
     "name": "stdout",
     "output_type": "stream",
     "text": [
      "1,235,467.5\n"
     ]
    }
   ],
   "source": [
    "number = 1235467.458\n",
    "## The print function will format the number using the f-string type. \n",
    "## The format specifier of comma will insert the comma separators\n",
    "## The .1 presision desginator will round the number to one decimal place\n",
    "print(f'{number:,.1f}')"
   ]
  },
  {
   "cell_type": "markdown",
   "id": "f73fd9f8",
   "metadata": {},
   "source": [
    "### Programming Exercises - Number 4"
   ]
  },
  {
   "cell_type": "markdown",
   "id": "26a002fb",
   "metadata": {},
   "source": [
    "Need to write a program that will ask the customer the price of the five items.  It will print the subtotal, sales, tax, and total amount of the items\n",
    "\n",
    "First pass will collect the input of each item and store it as a float variable"
   ]
  },
  {
   "cell_type": "code",
   "execution_count": 46,
   "id": "4b6bfeeb",
   "metadata": {},
   "outputs": [
    {
     "name": "stdout",
     "output_type": "stream",
     "text": [
      "Enter the price of item 1: 2.25\n",
      "Enter the price of item 2: 5.45\n",
      "Enter the price of item 3: 3\n",
      "Enter the price of item 4: .99\n",
      "Enter the price of item 5: 2.21\n",
      "--------------\n",
      "Subtotal: $ 13.90\n",
      "Tax: $ 0.97\n",
      "-------\n",
      "Total: $ 14.87\n"
     ]
    }
   ],
   "source": [
    "## The input function will prompt the user to enter the price of each item\n",
    "## The float function will return the argument value converted to a float\n",
    "item1 = float(input('Enter the price of item 1: '))\n",
    "item2 = float(input('Enter the price of item 2: '))\n",
    "item3 = float(input('Enter the price of item 3: '))\n",
    "item4 = float(input('Enter the price of item 4: '))\n",
    "item5 = float(input('Enter the price of item 5: '))\n",
    "\n",
    "## The subtotal is the addition of the float values stored in items 1-5\n",
    "## The salesTax is the multiplication of the subtotal by 7% tax rate\n",
    "## The total is the addition of the float values of the subtotal and sales tax\n",
    "subtotal = item1 + item2 + item3 + item4 + item5\n",
    "salesTax = subtotal * .07\n",
    "total = subtotal + salesTax\n",
    "\n",
    "## The print function will format the subtotal, salesTax, and total variable value using the f-string tyoe\n",
    "## The .2 presision desginator will round the variable value to two decimal places\n",
    "## Added dashes for improved formatting\n",
    "print('--------------')\n",
    "print('Subtotal: $',f'{subtotal:.2f}')\n",
    "print ('Tax: $', f'{salesTax:.2f}')\n",
    "print('-------')\n",
    "print ('Total: $', f'{total:.2f}')"
   ]
  },
  {
   "cell_type": "markdown",
   "id": "712e0b82",
   "metadata": {},
   "source": [
    "### Programming Exercises - Number 13\n",
    "\n",
    "Need to write a program that will calculate the total number of grapevines to plant per row.  It will ask the customer a series of questions, and then display the total that will fit in one row. "
   ]
  },
  {
   "cell_type": "code",
   "execution_count": 55,
   "id": "78d69e3c",
   "metadata": {},
   "outputs": [
    {
     "name": "stdout",
     "output_type": "stream",
     "text": [
      "Enter the length (in feet) of the grapevine row: 10\n",
      "Enter the length (in feet) of the end-post assembly: 2\n",
      "Enter the amount of space (in feet) between the grapevines: 1\n"
     ]
    }
   ],
   "source": [
    "rowLength = int(input('Enter the length (in feet) of the grapevine row: '))\n",
    "endPostAssemblyLength = int(input('Enter the length (in feet) of the end-post assembly: '))\n",
    "vineSeparationLength = int(input('Enter the amount of space (in feet) between the grapevines: '))"
   ]
  },
  {
   "cell_type": "code",
   "execution_count": null,
   "id": "7fff93e4",
   "metadata": {},
   "outputs": [],
   "source": []
  }
 ],
 "metadata": {
  "kernelspec": {
   "display_name": "Python 3 (ipykernel)",
   "language": "python",
   "name": "python3"
  },
  "language_info": {
   "codemirror_mode": {
    "name": "ipython",
    "version": 3
   },
   "file_extension": ".py",
   "mimetype": "text/x-python",
   "name": "python",
   "nbconvert_exporter": "python",
   "pygments_lexer": "ipython3",
   "version": "3.10.9"
  }
 },
 "nbformat": 4,
 "nbformat_minor": 5
}
