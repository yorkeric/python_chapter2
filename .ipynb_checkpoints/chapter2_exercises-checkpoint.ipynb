{
 "cells": [
  {
   "cell_type": "markdown",
   "id": "4ea28946",
   "metadata": {},
   "source": [
    "## Chapter 2 Exercises\n",
    "\n",
    "### Algorithm Workbench - Number 11\n",
    "\n",
    "Presented with a  number with three decimal places.  Need to write a statement that rounds the number to one decimal place and is formatted with commas. \n",
    "\n",
    "My third pass will print the number rounding to one decimal place with comma separators"
   ]
  },
  {
   "cell_type": "code",
   "execution_count": 15,
   "id": "f3494d43",
   "metadata": {},
   "outputs": [
    {
     "name": "stdout",
     "output_type": "stream",
     "text": [
      "1,235,467.5\n"
     ]
    }
   ],
   "source": [
    "number = 1235467.458\n",
    "print(f'{number:,.1f}')"
   ]
  },
  {
   "cell_type": "markdown",
   "id": "daa6fe92",
   "metadata": {},
   "source": [
    "### Programming Exercises - Number 4"
   ]
  },
  {
   "cell_type": "markdown",
   "id": "1c9c4917",
   "metadata": {},
   "source": [
    "Need to write a program that will ask the customer the price of the five items.  It will print the subtotal, sales, tax, and total amount of the items\n",
    "\n",
    "First pass will collect the input of each item and store it as a float variable"
   ]
  },
  {
   "cell_type": "code",
   "execution_count": null,
   "id": "553556b1",
   "metadata": {},
   "outputs": [],
   "source": [
    "item1 = float(input('Enter the price of item 1 '))\n",
    "item2 = float(input('Enter the price of item 2 '))\n",
    "item3 = float(input('Enter the price of item 3 '))\n",
    "item4 = float(input('Enter the price of item 4 '))\n",
    "item5 = float(input('Enter the price of item 5 '))"
   ]
  },
  {
   "cell_type": "code",
   "execution_count": null,
   "id": "dcdd100f",
   "metadata": {},
   "outputs": [],
   "source": []
  }
 ],
 "metadata": {
  "kernelspec": {
   "display_name": "Python 3 (ipykernel)",
   "language": "python",
   "name": "python3"
  },
  "language_info": {
   "codemirror_mode": {
    "name": "ipython",
    "version": 3
   },
   "file_extension": ".py",
   "mimetype": "text/x-python",
   "name": "python",
   "nbconvert_exporter": "python",
   "pygments_lexer": "ipython3",
   "version": "3.10.9"
  }
 },
 "nbformat": 4,
 "nbformat_minor": 5
}
