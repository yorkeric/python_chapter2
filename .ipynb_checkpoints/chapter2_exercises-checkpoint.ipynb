{
 "cells": [
  {
   "cell_type": "markdown",
   "id": "b8de6a55",
   "metadata": {},
   "source": [
    "## Chapter 2 Exercises\n",
    "\n",
    "### Algorithm Workbench - Number 11\n",
    "\n",
    "Presented with a  number with three decimal places.  Need to write a statement that rounds the number to one decimal place and is formatted with commas. \n",
    "\n",
    "My third pass will print the number rounding to one decimal place with comma separators"
   ]
  },
  {
   "cell_type": "code",
   "execution_count": 15,
   "id": "36c4e965",
   "metadata": {},
   "outputs": [
    {
     "name": "stdout",
     "output_type": "stream",
     "text": [
      "1,235,467.5\n"
     ]
    }
   ],
   "source": [
    "number = 1235467.458\n",
    "print(f'{number:,.1f}')"
   ]
  },
  {
   "cell_type": "markdown",
   "id": "433b9aed",
   "metadata": {},
   "source": [
    "### Programming Exercises - Number 4"
   ]
  },
  {
   "cell_type": "markdown",
   "id": "21d1844c",
   "metadata": {},
   "source": [
    "Need to write a program that will ask the customer the price of the five items.  It will print the subtotal, sales, tax, and total amount of the items\n",
    "\n",
    "First pass will collect the input of each item and store it as a float variable"
   ]
  },
  {
   "cell_type": "code",
   "execution_count": 41,
   "id": "135a4cc3",
   "metadata": {},
   "outputs": [
    {
     "name": "stdout",
     "output_type": "stream",
     "text": [
      "Enter the price of item 1 1.5\n",
      "Enter the price of item 2 1\n",
      "Enter the price of item 3 1\n",
      "Enter the price of item 4 1\n",
      "Enter the price of item 5 1\n",
      "Subtotal: $ 5.50\n",
      "--------------\n",
      "Subtotal: $ 5.50\n",
      "Tax: $ 0.39\n",
      "-------\n",
      "Total: $ 5.88\n"
     ]
    }
   ],
   "source": [
    "item1 = float(input('Enter the price of item 1: '))\n",
    "item2 = float(input('Enter the price of item 2: '))\n",
    "item3 = float(input('Enter the price of item 3: '))\n",
    "item4 = float(input('Enter the price of item 4: '))\n",
    "item5 = float(input('Enter the price of item 5: '))\n",
    "\n",
    "subtotal = item1 + item2 + item3 + item4 + item5\n",
    "salesTax = subtotal * .07\n",
    "total = subtotal + salesTax\n",
    "\n",
    "print('--------------')\n",
    "print('Subtotal: $',f'{subtotal:.2f}')\n",
    "print ('Tax: $', f'{salesTax:,.2f}')\n",
    "print('-------')\n",
    "print ('Total: $', f'{total:,.2f}')"
   ]
  },
  {
   "cell_type": "code",
   "execution_count": null,
   "id": "486bc742",
   "metadata": {},
   "outputs": [],
   "source": []
  }
 ],
 "metadata": {
  "kernelspec": {
   "display_name": "Python 3 (ipykernel)",
   "language": "python",
   "name": "python3"
  },
  "language_info": {
   "codemirror_mode": {
    "name": "ipython",
    "version": 3
   },
   "file_extension": ".py",
   "mimetype": "text/x-python",
   "name": "python",
   "nbconvert_exporter": "python",
   "pygments_lexer": "ipython3",
   "version": "3.10.9"
  }
 },
 "nbformat": 4,
 "nbformat_minor": 5
}
