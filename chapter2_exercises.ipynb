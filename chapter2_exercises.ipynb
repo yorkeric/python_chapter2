{
 "cells": [
  {
   "cell_type": "markdown",
   "id": "d1c85c8d",
   "metadata": {},
   "source": [
    "## Chapter 2 Exercises\n",
    "\n",
    "### Algorithm Workbench - Number 11\n",
    "\n",
    "Presented with a  number with three decimal places.  Need to write a statement that rounds the number to one decimal place and is formatted with commas. \n",
    "\n",
    "My third pass will print the number rounding to one decimal place with comma separators"
   ]
  },
  {
   "cell_type": "code",
   "execution_count": 44,
   "id": "8d8b02b6",
   "metadata": {},
   "outputs": [
    {
     "name": "stdout",
     "output_type": "stream",
     "text": [
      "1,235,467.5\n"
     ]
    }
   ],
   "source": [
    "number = 1235467.458\n",
    "## The print function will format the number using the f-string type. \n",
    "## The format specifier of comma will insert the comma separators\n",
    "## The .1 presision desginator will round the number to one decimal place\n",
    "print(f'{number:,.1f}')"
   ]
  },
  {
   "cell_type": "markdown",
   "id": "e02264ba",
   "metadata": {},
   "source": [
    "### Programming Exercises - Number 4"
   ]
  },
  {
   "cell_type": "markdown",
   "id": "f14677a0",
   "metadata": {},
   "source": [
    "Need to write a program that will ask the customer the price of the five items.  It will print the subtotal, sales, tax, and total amount of the items\n",
    "\n",
    "First pass will collect the input of each item and store it as a float variable"
   ]
  },
  {
   "cell_type": "code",
   "execution_count": 46,
   "id": "eca92932",
   "metadata": {},
   "outputs": [
    {
     "name": "stdout",
     "output_type": "stream",
     "text": [
      "Enter the price of item 1: 2.25\n",
      "Enter the price of item 2: 5.45\n",
      "Enter the price of item 3: 3\n",
      "Enter the price of item 4: .99\n",
      "Enter the price of item 5: 2.21\n",
      "--------------\n",
      "Subtotal: $ 13.90\n",
      "Tax: $ 0.97\n",
      "-------\n",
      "Total: $ 14.87\n"
     ]
    }
   ],
   "source": [
    "## The input function will prompt the user to enter the price of each item\n",
    "## The float function will return the argument value converted to a float\n",
    "item1 = float(input('Enter the price of item 1: '))\n",
    "item2 = float(input('Enter the price of item 2: '))\n",
    "item3 = float(input('Enter the price of item 3: '))\n",
    "item4 = float(input('Enter the price of item 4: '))\n",
    "item5 = float(input('Enter the price of item 5: '))\n",
    "\n",
    "## The subtotal is the addition of the float values stored in items 1-5\n",
    "## The salesTax is the multiplication of the subtotal by 7% tax rate\n",
    "## The total is the addition of the float values of the subtotal and sales tax\n",
    "subtotal = item1 + item2 + item3 + item4 + item5\n",
    "salesTax = subtotal * .07\n",
    "total = subtotal + salesTax\n",
    "\n",
    "## The print function will format the subtotal, salesTax, and total variable value using the f-string tyoe\n",
    "## The .2 presision desginator will round the variable value to two decimal places\n",
    "## Added dashes for improved formatting\n",
    "print('--------------')\n",
    "print('Subtotal: $',f'{subtotal:.2f}')\n",
    "print ('Tax: $', f'{salesTax:.2f}')\n",
    "print('-------')\n",
    "print ('Total: $', f'{total:.2f}')"
   ]
  },
  {
   "cell_type": "markdown",
   "id": "2f088d28",
   "metadata": {},
   "source": [
    "### Programming Exercises - Number 13\n",
    "\n",
    "Need to write a program that will calculate the total number of grapevines to plant per row.  It will ask the customer a series of questions, and then display the total that will fit in one row. "
   ]
  },
  {
   "cell_type": "code",
   "execution_count": 63,
   "id": "0c7e98fc",
   "metadata": {},
   "outputs": [
    {
     "name": "stdout",
     "output_type": "stream",
     "text": [
      "Enter the length (in feet) of the grapevine row: 10\n",
      "Enter the length (in feet) of the end-post assembly: 1\n",
      "Enter the amount of space (in feet) between the grapevines: 2\n",
      "Total number of grapevines per row:  4\n"
     ]
    }
   ],
   "source": [
    "## The input function will prompt the user to enter the length of the grapevine row (in feet), lenght of the end-post assembly (in feet), and the amount of space (in feet) between the grapevines\n",
    "## The int function will return the argument value converted to an integer  \n",
    "rowLength = int(input('Enter the length (in feet) of the grapevine row: '))\n",
    "endPostAssemblyLength = int(input('Enter the length (in feet) of the end-post assembly: '))\n",
    "vineSeparationLength = int(input('Enter the amount of space (in feet) between the grapevines: '))\n",
    "                           \n",
    "## The calcuation will use the formula to calcuate the total grapevines per row\n",
    "## The formula uses the order of operations of parenthes first which is multiplication then subtraction, and lastly division\n",
    "## The // operator will round the amount down to the nearest hole number\n",
    "totalGrapevinesPerRow = (rowLength - endPostAssemblyLength * 2) // vineSeparationLength\n",
    "                           \n",
    "## The print function will use multi item to display the total number of grapevines per row\n",
    "print ('Total number of grapevines per row: ', totalGrapevinesPerRow)"
   ]
  }
 ],
 "metadata": {
  "kernelspec": {
   "display_name": "Python 3 (ipykernel)",
   "language": "python",
   "name": "python3"
  },
  "language_info": {
   "codemirror_mode": {
    "name": "ipython",
    "version": 3
   },
   "file_extension": ".py",
   "mimetype": "text/x-python",
   "name": "python",
   "nbconvert_exporter": "python",
   "pygments_lexer": "ipython3",
   "version": "3.10.9"
  }
 },
 "nbformat": 4,
 "nbformat_minor": 5
}
