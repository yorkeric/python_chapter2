{
 "cells": [
  {
   "cell_type": "markdown",
   "id": "a12de1f7",
   "metadata": {},
   "source": [
    "## Chapter 2 Exercises\n",
    "\n",
    "### Algorithm Workbench - Number 11\n",
    "\n",
    "Presented with a  number with three decimal places.  Need to write a stament that rounds the number to one decimal place and is formatted with commas. \n",
    "\n",
    "My first pass will print the number without any formatting.  "
   ]
  },
  {
   "cell_type": "code",
   "execution_count": 1,
   "id": "7167c295",
   "metadata": {},
   "outputs": [
    {
     "name": "stdout",
     "output_type": "stream",
     "text": [
      "1235467.458\n"
     ]
    }
   ],
   "source": [
    "print(1235467.458)"
   ]
  },
  {
   "cell_type": "code",
   "execution_count": null,
   "id": "e70a006d",
   "metadata": {},
   "outputs": [],
   "source": []
  }
 ],
 "metadata": {
  "kernelspec": {
   "display_name": "Python 3 (ipykernel)",
   "language": "python",
   "name": "python3"
  },
  "language_info": {
   "codemirror_mode": {
    "name": "ipython",
    "version": 3
   },
   "file_extension": ".py",
   "mimetype": "text/x-python",
   "name": "python",
   "nbconvert_exporter": "python",
   "pygments_lexer": "ipython3",
   "version": "3.10.9"
  }
 },
 "nbformat": 4,
 "nbformat_minor": 5
}
