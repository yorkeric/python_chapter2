{
 "cells": [
  {
   "cell_type": "markdown",
   "id": "50abdb33",
   "metadata": {},
   "source": [
    "## Chapter 2 Exercises\n",
    "\n",
    "### Algorithm Workbench - Number 11\n",
    "\n",
    "Presented with a  number with three decimal places.  Need to write a statement that rounds the number to one decimal place and is formatted with commas. \n",
    "\n",
    "My second pass will print the number rounding to one decimal place"
   ]
  },
  {
   "cell_type": "code",
   "execution_count": 14,
   "id": "951ee012",
   "metadata": {},
   "outputs": [
    {
     "name": "stdout",
     "output_type": "stream",
     "text": [
      "1235467.5\n"
     ]
    }
   ],
   "source": [
    "number = 1235467.458\n",
    "print(f'{number:.1f}')"
   ]
  },
  {
   "cell_type": "code",
   "execution_count": null,
   "id": "5f77e5a0",
   "metadata": {},
   "outputs": [],
   "source": []
  }
 ],
 "metadata": {
  "kernelspec": {
   "display_name": "Python 3 (ipykernel)",
   "language": "python",
   "name": "python3"
  },
  "language_info": {
   "codemirror_mode": {
    "name": "ipython",
    "version": 3
   },
   "file_extension": ".py",
   "mimetype": "text/x-python",
   "name": "python",
   "nbconvert_exporter": "python",
   "pygments_lexer": "ipython3",
   "version": "3.10.9"
  }
 },
 "nbformat": 4,
 "nbformat_minor": 5
}
